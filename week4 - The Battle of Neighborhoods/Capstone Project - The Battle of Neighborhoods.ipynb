{
 "cells": [
  {
   "cell_type": "markdown",
   "metadata": {},
   "source": [
    "# The Battle of Neighborhoods | Business Proposal"
   ]
  },
  {
   "cell_type": "markdown",
   "metadata": {},
   "source": [
    "# A - Introduction"
   ]
  },
  {
   "cell_type": "markdown",
   "metadata": {},
   "source": [
    "### A.1 Business Proposal"
   ]
  },
  {
   "cell_type": "markdown",
   "metadata": {},
   "source": [
    "The Yellow Woodpecker (fictional company) is a Brazilian travel agency recognized for the quality of its services. In an effort to improve its services and increase customer retention, the company decided to seek together with its Data Science Team, a possible strategy to improve the satisfaction of its customers. During the analysis, it was noticed that the satisfaction rate to travel accommodation of some customers was significantly getting variation, and not always achieve the expected satisfaction. In view of this, the Data Science Team proposed a project to segment all hotels in the destination trip, and then based oh the greater satisfaction of accommodation from a previous trip, create a system to suggest Hotels based on the similarity of nearby venues, to increase the likelihood of high satisfaction with the accommodation service provided."
   ]
  },
  {
   "cell_type": "markdown",
   "metadata": {},
   "source": [
    "### A.2 Data"
   ]
  },
  {
   "cell_type": "markdown",
   "metadata": {},
   "source": [
    "The data used will be obtained from the Foursquare API, which will be performed in 3 steps. First, we will search the entire area for a desired city looking for all the hotels in it, and then saving the following information:\n",
    "- \tCity\n",
    "-\tCity latitude\n",
    "-\tCity longitude\n",
    "-\tHotel name\n",
    "-\tHotel Id\n",
    "-\tHotel latitude\n",
    "-\tHotel longitude\n",
    "\n",
    "Then, for each hotel found, we will make a new request to the API to obtain the evaluation score of each venue (hotel).\n",
    "-\tRatings\n",
    "\n",
    "Finally, for each hotel, we will make a new request to obtain all nearby venues in a 500 meters radius, then save the following information:\n",
    "-\tVenue name\n",
    "-\tVenue Latitude\n",
    "-\tVenue longitude\n",
    "-\tVenue category\n",
    "\n",
    "With this data we will be able to create clusters of hotels related to the venues close to each of them, and then given the information of a previous customer's hotel, we will be able to perform a classification to which cluster that hotel belongs and then suggest the best hotels in this cluster."
   ]
  }
 ],
 "metadata": {
  "kernelspec": {
   "display_name": "Python 3",
   "language": "python",
   "name": "python3"
  },
  "language_info": {
   "codemirror_mode": {
    "name": "ipython",
    "version": 3
   },
   "file_extension": ".py",
   "mimetype": "text/x-python",
   "name": "python",
   "nbconvert_exporter": "python",
   "pygments_lexer": "ipython3",
   "version": "3.7.4"
  }
 },
 "nbformat": 4,
 "nbformat_minor": 2
}
